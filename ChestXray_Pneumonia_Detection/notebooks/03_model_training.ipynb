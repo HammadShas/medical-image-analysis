{
 "cells": [
  {
   "cell_type": "markdown",
   "id": "225bd83c-b6b1-4600-8592-ee15b35fa8ec",
   "metadata": {},
   "source": [
    "# Imports"
   ]
  },
  {
   "cell_type": "code",
   "execution_count": 120,
   "id": "2c3636e2-d491-4102-8483-1d9ef7fd310c",
   "metadata": {},
   "outputs": [],
   "source": [
    "# PyTorch core libraries\n",
    "import torch                        # Core PyTorch package for tensor operations\n",
    "import torch.nn as nn               # For building neural network layers\n",
    "import torch.nn.functional as F\n",
    "import torch.optim as optim         # Optimizers like SGD, Adam\n",
    "\n",
    "# torchvision for image-specific utilities and models\n",
    "from torchvision import models      # Common pretrained models\n",
    "\n",
    "# Misc\n",
    "import time                        # To measure training duration"
   ]
  },
  {
   "cell_type": "code",
   "execution_count": 121,
   "id": "8f97020f-7eb2-4b66-9811-2a4b5ccb3de0",
   "metadata": {},
   "outputs": [],
   "source": [
    "import random\n",
    "import numpy as np\n",
    "\n",
    "torch.manual_seed(42)\n",
    "random.seed(42)\n",
    "np.random.seed(42)\n",
    "\n",
    "# Now, everything that uses randomness below will be reproducible"
   ]
  },
  {
   "cell_type": "code",
   "execution_count": 137,
   "id": "7faeaf7b-ad9c-4b9c-bf63-d71fbea260a3",
   "metadata": {},
   "outputs": [],
   "source": [
    "import sys\n",
    "%reload_ext autoreload\n",
    "%autoreload 2\n",
    "# Add the parent directory to sys.path to import 'scripts'\n",
    "sys.path.append(\"..\")  \n",
    "\n",
    "# ====== Load Data ======\n",
    "from scripts.data_preprocessing import train_loader, val_loader, train_dataset"
   ]
  },
  {
   "cell_type": "code",
   "execution_count": 123,
   "id": "858be7ae-5825-4a27-85c5-eebfda7af73a",
   "metadata": {},
   "outputs": [
    {
     "name": "stdout",
     "output_type": "stream",
     "text": [
      "Total samples in dataset: 6712\n",
      "Batch size: 128\n",
      "Number of training batches: 53\n"
     ]
    }
   ],
   "source": [
    "# Sanity check: Print dataset info\n",
    "\n",
    "print(f\"Total samples in dataset: {len(train_dataset)}\")\n",
    "print(f\"Batch size: {train_loader.batch_size}\")\n",
    "print(f\"Number of training batches: {len(train_loader)}\")"
   ]
  },
  {
   "cell_type": "code",
   "execution_count": 124,
   "id": "a9b4990f-9a84-4490-affb-83784a272553",
   "metadata": {},
   "outputs": [
    {
     "name": "stdout",
     "output_type": "stream",
     "text": [
      "Using device: cuda\n"
     ]
    }
   ],
   "source": [
    "# Step 2: Setup device (GPU if available, else CPU)\n",
    "device = torch.device(\"cuda\" if torch.cuda.is_available() else \"cpu\")\n",
    "print(f\"Using device: {device}\")"
   ]
  },
  {
   "cell_type": "code",
   "execution_count": 125,
   "id": "1c2f63c1-9041-4c79-81ab-3b0a65343bb7",
   "metadata": {},
   "outputs": [],
   "source": [
    "#Step 3: Load Pretrained Model (Transfer Learning)\n",
    "from torchvision.models import resnet50, ResNet50_Weights\n",
    "\n",
    "# Load pretrained ResNet50\n",
    "weights = ResNet50_Weights.DEFAULT\n",
    "model = resnet50(weights=weights)\n",
    "\n",
    "# Freeze all layers except layer3, layer4, and fc\n",
    "for name, param in model.named_parameters():\n",
    "    if \"layer3\" in name or \"layer4\" in name or \"fc\" in name:\n",
    "        param.requires_grad = True\n",
    "    else:\n",
    "        param.requires_grad = False\n",
    "\n",
    "# Replace the classifier for binary output\n",
    "model.fc = nn.Sequential(\n",
    "    nn.Linear(2048, 512),\n",
    "    nn.ReLU(),\n",
    "    nn.Dropout(0.4),\n",
    "    nn.Linear(512, 2)  # Binary classification\n",
    ")\n",
    "\n",
    "# Move model to device\n",
    "model = model.to(device)"
   ]
  },
  {
   "cell_type": "code",
   "execution_count": 126,
   "id": "985b99d4-871d-442d-93da-4ace96ac1c8c",
   "metadata": {},
   "outputs": [],
   "source": [
    "class FocalLoss(nn.Module):\n",
    "    def __init__(self, gamma=2, alpha=None, reduction='mean'):\n",
    "        super(FocalLoss, self).__init__()\n",
    "        self.gamma = gamma\n",
    "        self.alpha = alpha  # Set as 0.25 for class imbalance\n",
    "        self.reduction = reduction\n",
    "\n",
    "    def forward(self, inputs, targets):\n",
    "        ce_loss = F.cross_entropy(inputs, targets, reduction='none')\n",
    "        pt = torch.exp(-ce_loss)  # prevents nans when probability is 0\n",
    "        focal_loss = ((1 - pt) ** self.gamma) * ce_loss\n",
    "\n",
    "        if self.alpha is not None:\n",
    "            alpha_t = self.alpha * targets + (1 - self.alpha) * (1 - targets)\n",
    "            focal_loss *= alpha_t\n",
    "\n",
    "        if self.reduction == 'mean':\n",
    "            return focal_loss.mean()\n",
    "        elif self.reduction == 'sum':\n",
    "            return focal_loss.sum()\n",
    "        return focal_loss"
   ]
  },
  {
   "cell_type": "code",
   "execution_count": 127,
   "id": "97bbf8f2-3b22-4ff4-a2df-9d5ac19971fa",
   "metadata": {},
   "outputs": [],
   "source": [
    "#Step 4: Define Loss Function and Optimizer\n",
    "criterion = FocalLoss(gamma=2, alpha=0.25)\n",
    "\n",
    "optimizer = torch.optim.Adam(filter(lambda p: p.requires_grad, model.parameters()), lr=1e-4, weight_decay=1e-4)\n",
    "\n",
    "scheduler = torch.optim.lr_scheduler.ReduceLROnPlateau(optimizer, mode='max', patience=2, factor=0.5)"
   ]
  },
  {
   "cell_type": "code",
   "execution_count": 128,
   "id": "59dcb5f6-9cea-46f7-87f7-ee2ec95a854b",
   "metadata": {
    "scrolled": true
   },
   "outputs": [
    {
     "name": "stdout",
     "output_type": "stream",
     "text": [
      "Current LR: 0.0001\n",
      "Epoch [1/30] - Train Loss: 0.0285 | Train Accuracy: 82.97% | Val Accuracy: 88.07% | Val Loss: 0.0353 | Time: 118.71s\n",
      "Current LR: 0.0001\n",
      "Epoch [2/30] - Train Loss: 0.0101 | Train Accuracy: 95.96% | Val Accuracy: 95.58% | Val Loss: 0.0135 | Time: 82.29s\n",
      "Current LR: 0.0001\n",
      "Epoch [3/30] - Train Loss: 0.0082 | Train Accuracy: 97.12% | Val Accuracy: 97.14% | Val Loss: 0.0109 | Time: 84.15s\n",
      "Current LR: 0.0001\n",
      "Epoch [4/30] - Train Loss: 0.0070 | Train Accuracy: 97.35% | Val Accuracy: 96.18% | Val Loss: 0.0139 | Time: 84.15s\n",
      "Current LR: 0.0001\n",
      "Epoch [5/30] - Train Loss: 0.0066 | Train Accuracy: 97.54% | Val Accuracy: 89.26% | Val Loss: 0.0226 | Time: 85.81s\n",
      "Current LR: 5e-05\n",
      "Epoch [6/30] - Train Loss: 0.0064 | Train Accuracy: 97.51% | Val Accuracy: 94.63% | Val Loss: 0.0121 | Time: 89.24s\n",
      "Current LR: 5e-05\n",
      "Epoch [7/30] - Train Loss: 0.0051 | Train Accuracy: 97.72% | Val Accuracy: 96.90% | Val Loss: 0.0096 | Time: 90.14s\n",
      "Current LR: 5e-05\n",
      "Epoch [8/30] - Train Loss: 0.0052 | Train Accuracy: 97.93% | Val Accuracy: 95.70% | Val Loss: 0.0118 | Time: 91.37s\n",
      "Current LR: 2.5e-05\n",
      "Epoch [9/30] - Train Loss: 0.0045 | Train Accuracy: 98.06% | Val Accuracy: 96.78% | Val Loss: 0.0096 | Time: 90.95s\n",
      "Current LR: 2.5e-05\n",
      "Epoch [10/30] - Train Loss: 0.0044 | Train Accuracy: 98.29% | Val Accuracy: 96.54% | Val Loss: 0.0104 | Time: 92.78s\n",
      "Current LR: 2.5e-05\n",
      "Epoch [11/30] - Train Loss: 0.0034 | Train Accuracy: 98.75% | Val Accuracy: 97.97% | Val Loss: 0.0081 | Time: 93.22s\n",
      "Current LR: 2.5e-05\n",
      "Epoch [12/30] - Train Loss: 0.0036 | Train Accuracy: 98.58% | Val Accuracy: 97.37% | Val Loss: 0.0095 | Time: 93.09s\n",
      "Current LR: 2.5e-05\n",
      "Epoch [13/30] - Train Loss: 0.0038 | Train Accuracy: 98.54% | Val Accuracy: 97.49% | Val Loss: 0.0094 | Time: 93.67s\n",
      "Current LR: 1.25e-05\n",
      "Epoch [14/30] - Train Loss: 0.0041 | Train Accuracy: 98.41% | Val Accuracy: 97.14% | Val Loss: 0.0104 | Time: 92.91s\n",
      "Current LR: 1.25e-05\n",
      "Epoch [15/30] - Train Loss: 0.0038 | Train Accuracy: 98.61% | Val Accuracy: 96.66% | Val Loss: 0.0114 | Time: 93.00s\n",
      "Current LR: 1.25e-05\n",
      "Epoch [16/30] - Train Loss: 0.0037 | Train Accuracy: 98.53% | Val Accuracy: 95.94% | Val Loss: 0.0119 | Time: 94.45s\n",
      "Early stopping triggered at epoch 16\n",
      "\n",
      "✅ Total training time: 24.52 minutes\n"
     ]
    }
   ],
   "source": [
    "# Step 5: Training Loop + Validation (Clean Version)\n",
    "num_epochs = 30\n",
    "best_val_acc = 0.0\n",
    "\n",
    "epochs_no_improve = 0\n",
    "\n",
    "overall_start = time.time()  # Start tracking total training time\n",
    "\n",
    "class EarlyStopping:\n",
    "    def __init__(self, patience=4, delta=0.001):\n",
    "        self.patience = patience\n",
    "        self.delta = delta\n",
    "        self.counter = 0\n",
    "        self.best_loss = None\n",
    "        self.early_stop = False\n",
    "\n",
    "    def __call__(self, val_loss):\n",
    "        if self.best_loss is None:\n",
    "            self.best_loss = val_loss\n",
    "        elif val_loss > self.best_loss - self.delta:\n",
    "            self.counter += 1\n",
    "            if self.counter >= self.patience:\n",
    "                self.early_stop = True\n",
    "        else:\n",
    "            self.best_loss = val_loss\n",
    "            self.counter = 0\n",
    "            \n",
    "# Initialize EarlyStopping\n",
    "early_stopping = EarlyStopping(patience=5)\n",
    "\n",
    "for epoch in range(num_epochs):\n",
    "    start_time = time.time()  # Start timer\n",
    "    \n",
    "    model.train()\n",
    "    running_loss = 0.0\n",
    "    train_correct = 0  # To track correct predictions during training\n",
    "    train_total = 0    # To track total samples during training\n",
    "\n",
    "    # Training loop\n",
    "    for images, labels in train_loader:\n",
    "        images = images.to(device, non_blocking=True)\n",
    "        labels = labels.to(device, non_blocking=True)\n",
    "\n",
    "        optimizer.zero_grad()\n",
    "        outputs = model(images)\n",
    "        loss = criterion(outputs, labels)\n",
    "        loss.backward()\n",
    "        optimizer.step()\n",
    "\n",
    "        running_loss += loss.item()\n",
    "\n",
    "        # Calculate training accuracy\n",
    "        _, predicted = torch.max(outputs, 1)\n",
    "        train_total += labels.size(0)\n",
    "        train_correct += (predicted == labels).sum().item()\n",
    "\n",
    "    avg_train_loss = running_loss / len(train_loader)\n",
    "    train_acc = train_correct / train_total  # Calculate training accuracy\n",
    "\n",
    "    # ====== Validation ======\n",
    "    model.eval()\n",
    "    val_loss = 0.0\n",
    "    correct = 0\n",
    "    total = 0\n",
    "    \n",
    "    with torch.no_grad():\n",
    "        for images, labels in val_loader:\n",
    "            images = images.to(device, non_blocking=True)\n",
    "            labels = labels.to(device, non_blocking=True)\n",
    "            outputs = model(images)\n",
    "            loss = criterion(outputs, labels)  # Compute val loss\n",
    "            val_loss += loss.item()\n",
    "            _, predicted = torch.max(outputs, 1)\n",
    "            total += labels.size(0)\n",
    "            correct += (predicted == labels).sum().item()\n",
    "\n",
    "    val_loss /= len(val_loader)  # Average val loss\n",
    "    val_acc = correct / total\n",
    "    scheduler.step(val_acc)  # Update learning rate based on validation accuracy\n",
    "    \n",
    "    # Print current learning rate\n",
    "    for param_group in optimizer.param_groups:\n",
    "        print(f\"Current LR: {param_group['lr']}\")\n",
    "    \n",
    "    epoch_time = time.time() - start_time  # End timer\n",
    "\n",
    "    print(f\"Epoch [{epoch+1}/{num_epochs}] - \"\n",
    "          f\"Train Loss: {avg_train_loss:.4f} | \"\n",
    "          f\"Train Accuracy: {train_acc * 100:.2f}% | \"\n",
    "          f\"Val Accuracy: {val_acc * 100:.2f}% | \"\n",
    "          f\"Val Loss: {val_loss:.4f} | \"\n",
    "          f\"Time: {epoch_time:.2f}s\")\n",
    "\n",
    "    # Save best model by val_acc\n",
    "    if val_acc > best_val_acc:\n",
    "        best_val_acc = val_acc\n",
    "        torch.save(model.state_dict(), \"best_model.pth\")\n",
    "\n",
    "    # Check early stopping using val_loss\n",
    "    early_stopping(val_loss)\n",
    "    if early_stopping.early_stop:\n",
    "        print(f\"Early stopping triggered at epoch {epoch+1}\")\n",
    "        break\n",
    "            \n",
    "overall_end = time.time()\n",
    "print(f\"\\n Total training time: {(overall_end - overall_start)/60:.2f} minutes\")"
   ]
  },
  {
   "cell_type": "code",
   "execution_count": 129,
   "id": "2cf54a58-6aaa-4060-ada1-c7d50a60ddb5",
   "metadata": {},
   "outputs": [
    {
     "data": {
      "text/plain": [
       "<All keys matched successfully>"
      ]
     },
     "execution_count": 129,
     "metadata": {},
     "output_type": "execute_result"
    }
   ],
   "source": [
    "# Load best model for testing\n",
    "model.load_state_dict(torch.load(\"best_model.pth\"))"
   ]
  }
 ],
 "metadata": {
  "kernelspec": {
   "display_name": "Python 3 (ipykernel)",
   "language": "python",
   "name": "python3"
  },
  "language_info": {
   "codemirror_mode": {
    "name": "ipython",
    "version": 3
   },
   "file_extension": ".py",
   "mimetype": "text/x-python",
   "name": "python",
   "nbconvert_exporter": "python",
   "pygments_lexer": "ipython3",
   "version": "3.10.16"
  }
 },
 "nbformat": 4,
 "nbformat_minor": 5
}
